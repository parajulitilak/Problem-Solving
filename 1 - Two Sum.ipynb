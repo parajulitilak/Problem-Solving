{
 "cells": [
  {
   "cell_type": "raw",
   "id": "3edeaca2",
   "metadata": {},
   "source": [
    "Given an array of integers nums and an integer target, return indices of the two numbers such that they add up to target.\n",
    "\n",
    "You may assume that each input would have exactly one solution, and you may not use the same element twice."
   ]
  },
  {
   "cell_type": "raw",
   "id": "b0b956d9",
   "metadata": {},
   "source": [
    "Example :\n",
    "\n",
    "Input: nums = [2,7,11,15], target = 9\n",
    "Output: [0,1]\n",
    "Explanation: Because nums[0] + nums[1] == 9, we return [0, 1]."
   ]
  },
  {
   "cell_type": "markdown",
   "id": "c424b9f7",
   "metadata": {},
   "source": [
    "# Algorithm\n",
    "In general, increasing time complexity comes at the cost of using more space, creating a trade-off. However, in this particular problem, I aim to achieve linear time complexity by only traversing the array once and using a HashMap to establish a mapping between each number and its coordinate position.\n",
    "\n",
    "Since the search efficiency of a HashMap is constant, while traversing the array, we can subtract the current number from the target to find the other number needed. We can then look up this other number directly in the HashMap. Note that the number found may not be the immediate preceding number. For example, if the target is 4 and we have traversed a 2, the other number needed may not be the previous number, which is also 2.\n",
    "\n",
    "The implementation steps for this approach are as follows: first traverse the array to create the HashMap mapping, and then traverse it again to search for the target numbers and record their indices."
   ]
  },
  {
   "cell_type": "markdown",
   "id": "d7025486",
   "metadata": {},
   "source": [
    "# solution 1 :"
   ]
  },
  {
   "cell_type": "code",
   "execution_count": 141,
   "id": "8bf75f1e",
   "metadata": {},
   "outputs": [
    {
     "name": "stdout",
     "output_type": "stream",
     "text": [
      "[0, 1]\n"
     ]
    }
   ],
   "source": [
    "def twosum(nums, target):\n",
    "    for i in range(len(nums)):\n",
    "        for j in range(i + 1, len(nums)):\n",
    "            _sum = nums[i] + nums[j]\n",
    "            if _sum == target:\n",
    "                return [i, j]\n",
    "\n",
    "nums = [2, 7, 11, 15]\n",
    "target = 9\n",
    "\n",
    "result = twosum(nums, target)\n",
    "print(result)\n"
   ]
  },
  {
   "cell_type": "markdown",
   "id": "23c183c5",
   "metadata": {},
   "source": [
    "# solution 2 :"
   ]
  },
  {
   "cell_type": "raw",
   "id": "fe3fd64e",
   "metadata": {},
   "source": [
    "Algorithm:\n",
    "1. Initialize an empty dictionary `m` to store numbers and their corresponding indices.\n",
    "2. Iterate through the array using the `enumerate` function to get both the index `i` and the value `v`.\n",
    "3. For each element `v`, calculate the complement `x` (the number needed to reach the target: `x = target - v`).\n",
    "4. Check if `x` is already in the dictionary `m`.\n",
    "   - If yes, return the current index `i` and the stored index of the complement `m[x]`. You found a pair that adds up to the target.\n",
    "   - If no, add the current number `v` to the dictionary with its index `i`.\n",
    "5. If no solution is found after iterating through the array, return an empty list or handle it as needed.\n"
   ]
  },
  {
   "cell_type": "code",
   "execution_count": 140,
   "id": "0554f56d",
   "metadata": {
    "scrolled": true
   },
   "outputs": [
    {
     "data": {
      "text/plain": [
       "[1, 2]"
      ]
     },
     "execution_count": 140,
     "metadata": {},
     "output_type": "execute_result"
    }
   ],
   "source": [
    "def twoSum(nums,target):\n",
    "    m = {}\n",
    "    for i, v in enumerate(nums):\n",
    "        x = target - v\n",
    "        if x in m:\n",
    "            return [m[x], i]\n",
    "        m[v] = i\n",
    "        \n",
    "nums = [2,7,11,15]\n",
    "target = 18\n",
    "\n",
    "twoSum(nums,target)"
   ]
  },
  {
   "cell_type": "markdown",
   "id": "1aa4bb83",
   "metadata": {},
   "source": [
    "# tracing"
   ]
  },
  {
   "cell_type": "code",
   "execution_count": 145,
   "id": "65e00df5",
   "metadata": {},
   "outputs": [
    {
     "name": "stdout",
     "output_type": "stream",
     "text": [
      "\n",
      "Iteration 1: v = 2, x = 17, m = {}\n",
      "Updated m: {2: 0}\n",
      "\n",
      "Iteration 2: v = 7, x = 12, m = {2: 0}\n",
      "Updated m: {2: 0, 7: 1}\n",
      "\n",
      "Iteration 3: v = 11, x = 8, m = {2: 0, 7: 1}\n",
      "Updated m: {2: 0, 7: 1, 11: 2}\n",
      "\n",
      "Iteration 4: v = 15, x = 4, m = {2: 0, 7: 1, 11: 2}\n",
      "Updated m: {2: 0, 7: 1, 11: 2, 15: 3}\n",
      "\n",
      "Iteration 5: v = 23, x = -4, m = {2: 0, 7: 1, 11: 2, 15: 3}\n",
      "Updated m: {2: 0, 7: 1, 11: 2, 15: 3, 23: 4}\n",
      "\n",
      "Iteration 6: v = 4, x = 15, m = {2: 0, 7: 1, 11: 2, 15: 3, 23: 4}\n",
      "Solution Found: [3, 5]\n",
      "\n",
      "Final Result: [3, 5]\n"
     ]
    }
   ],
   "source": [
    "def twoSum(nums, target):\n",
    "    m = {}\n",
    "    for i, v in enumerate(nums):\n",
    "        x = target - v\n",
    "        print(f\"\\nIteration {i + 1}: v = {v}, x = {x}, m = {m}\")\n",
    "        if x in m:\n",
    "            print(f\"Solution Found: [{m[x]}, {i}]\")\n",
    "            return [m[x], i]\n",
    "        m[v] = i\n",
    "        print(f\"Updated m: {m}\")\n",
    "\n",
    "nums = [2, 7, 11, 15,23,4,1,9]\n",
    "target = 19\n",
    "\n",
    "result = twoSum(nums, target)\n",
    "print(\"\\nFinal Result:\", result)\n"
   ]
  },
  {
   "cell_type": "markdown",
   "id": "b9480362",
   "metadata": {},
   "source": [
    "# OR"
   ]
  },
  {
   "cell_type": "code",
   "execution_count": 95,
   "id": "8ddb9feb",
   "metadata": {},
   "outputs": [
    {
     "data": {
      "text/plain": [
       "[0, 1]"
      ]
     },
     "execution_count": 95,
     "metadata": {},
     "output_type": "execute_result"
    }
   ],
   "source": [
    "def twoSum(nums, target):\n",
    "    \"\"\"\n",
    "    :type nums: List[int]\n",
    "    :type target: int\n",
    "    :rtype: List[int]\n",
    "    \"\"\"\n",
    "    d = {}\n",
    "    for i, num in enumerate(nums):\n",
    "      if target - num in d:\n",
    "        return [d[target - num], i]\n",
    "      d[num] = i\n",
    "\n",
    "nums = [2,7,11,15]\n",
    "target = 9\n",
    "\n",
    "twoSum(nums,target)"
   ]
  }
 ],
 "metadata": {
  "kernelspec": {
   "display_name": "Python 3 (ipykernel)",
   "language": "python",
   "name": "python3"
  },
  "language_info": {
   "codemirror_mode": {
    "name": "ipython",
    "version": 3
   },
   "file_extension": ".py",
   "mimetype": "text/x-python",
   "name": "python",
   "nbconvert_exporter": "python",
   "pygments_lexer": "ipython3",
   "version": "3.10.12"
  }
 },
 "nbformat": 4,
 "nbformat_minor": 5
}
